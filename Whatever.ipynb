{
 "cells": [
  {
   "cell_type": "code",
   "execution_count": 1,
   "id": "cd399c01",
   "metadata": {},
   "outputs": [],
   "source": [
    "# !pip install lxml"
   ]
  },
  {
   "cell_type": "code",
   "execution_count": 2,
   "id": "b6dce1dc",
   "metadata": {},
   "outputs": [],
   "source": [
    "import pandas as pd\n",
    "import numpy as np\n",
    "import matplotlib.pyplot as plt\n",
    "import seaborn as sns\n",
    "\n",
    "import warnings\n",
    "\n",
    "warnings.filterwarnings('ignore')\n",
    "pd.options.display.max_rows = 500\n",
    "plt.rcParams['font.size'] = '16'\n",
    "sns.set_style('whitegrid')"
   ]
  },
  {
   "cell_type": "code",
   "execution_count": 3,
   "id": "efe92bb9",
   "metadata": {},
   "outputs": [],
   "source": [
    "link = pd.read_html('https://genshin-impact.fandom.com/wiki/Wishes/History')\n",
    "df = link[1]\n",
    "df = df.dropna()"
   ]
  },
  {
   "cell_type": "code",
   "execution_count": 4,
   "id": "fab16266",
   "metadata": {},
   "outputs": [],
   "source": [
    "df.Featured = df.Featured.str.split().apply(lambda x: x[0])\n",
    "df = df.drop('Wish', axis=1)"
   ]
  },
  {
   "cell_type": "code",
   "execution_count": 5,
   "id": "6848b346",
   "metadata": {},
   "outputs": [],
   "source": [
    "df = df[df.Featured != '—']"
   ]
  },
  {
   "cell_type": "code",
   "execution_count": 6,
   "id": "cff44088",
   "metadata": {},
   "outputs": [
    {
     "data": {
      "text/html": [
       "<div>\n",
       "<style scoped>\n",
       "    .dataframe tbody tr th:only-of-type {\n",
       "        vertical-align: middle;\n",
       "    }\n",
       "\n",
       "    .dataframe tbody tr th {\n",
       "        vertical-align: top;\n",
       "    }\n",
       "\n",
       "    .dataframe thead th {\n",
       "        text-align: right;\n",
       "    }\n",
       "</style>\n",
       "<table border=\"1\" class=\"dataframe\">\n",
       "  <thead>\n",
       "    <tr style=\"text-align: right;\">\n",
       "      <th></th>\n",
       "      <th>Featured</th>\n",
       "      <th>Duration</th>\n",
       "    </tr>\n",
       "  </thead>\n",
       "  <tbody>\n",
       "    <tr>\n",
       "      <th>0</th>\n",
       "      <td>Venti</td>\n",
       "      <td>September 28, 2020 – October 18, 2020</td>\n",
       "    </tr>\n",
       "    <tr>\n",
       "      <th>4</th>\n",
       "      <td>Klee</td>\n",
       "      <td>October 20, 2020 – November 10, 2020</td>\n",
       "    </tr>\n",
       "    <tr>\n",
       "      <th>6</th>\n",
       "      <td>Tartaglia</td>\n",
       "      <td>November 11, 2020 – December 1, 2020</td>\n",
       "    </tr>\n",
       "    <tr>\n",
       "      <th>8</th>\n",
       "      <td>Zhongli</td>\n",
       "      <td>December 1, 2020 – December 22, 2020</td>\n",
       "    </tr>\n",
       "    <tr>\n",
       "      <th>10</th>\n",
       "      <td>Albedo</td>\n",
       "      <td>December 23, 2020 – January 12, 2021</td>\n",
       "    </tr>\n",
       "  </tbody>\n",
       "</table>\n",
       "</div>"
      ],
      "text/plain": [
       "     Featured                               Duration\n",
       "0       Venti  September 28, 2020 – October 18, 2020\n",
       "4        Klee   October 20, 2020 – November 10, 2020\n",
       "6   Tartaglia   November 11, 2020 – December 1, 2020\n",
       "8     Zhongli   December 1, 2020 – December 22, 2020\n",
       "10     Albedo   December 23, 2020 – January 12, 2021"
      ]
     },
     "execution_count": 6,
     "metadata": {},
     "output_type": "execute_result"
    }
   ],
   "source": [
    "df.head()"
   ]
  },
  {
   "cell_type": "code",
   "execution_count": 8,
   "id": "9a9a6ed7",
   "metadata": {},
   "outputs": [],
   "source": [
    "paired_df = (df.groupby('Duration').Featured.count() == 2).reset_index()\n",
    "paired_df = paired_df.rename(\n",
    "    columns={\n",
    "        'Featured': 'Paired'\n",
    "    }\n",
    ")\n",
    "paired_df.Paired = paired_df.Paired.astype(int)\n",
    "\n",
    "df = pd.merge(df, paired_df, left_on='Duration' \\\n",
    "         , right_on='Duration', how='inner')"
   ]
  },
  {
   "cell_type": "code",
   "execution_count": 9,
   "id": "00acb24c",
   "metadata": {},
   "outputs": [
    {
     "data": {
      "text/html": [
       "<div>\n",
       "<style scoped>\n",
       "    .dataframe tbody tr th:only-of-type {\n",
       "        vertical-align: middle;\n",
       "    }\n",
       "\n",
       "    .dataframe tbody tr th {\n",
       "        vertical-align: top;\n",
       "    }\n",
       "\n",
       "    .dataframe thead th {\n",
       "        text-align: right;\n",
       "    }\n",
       "</style>\n",
       "<table border=\"1\" class=\"dataframe\">\n",
       "  <thead>\n",
       "    <tr style=\"text-align: right;\">\n",
       "      <th></th>\n",
       "      <th>Featured</th>\n",
       "      <th>Duration</th>\n",
       "      <th>Paired</th>\n",
       "    </tr>\n",
       "  </thead>\n",
       "  <tbody>\n",
       "    <tr>\n",
       "      <th>0</th>\n",
       "      <td>Venti</td>\n",
       "      <td>September 28, 2020 – October 18, 2020</td>\n",
       "      <td>0</td>\n",
       "    </tr>\n",
       "    <tr>\n",
       "      <th>1</th>\n",
       "      <td>Klee</td>\n",
       "      <td>October 20, 2020 – November 10, 2020</td>\n",
       "      <td>0</td>\n",
       "    </tr>\n",
       "    <tr>\n",
       "      <th>2</th>\n",
       "      <td>Tartaglia</td>\n",
       "      <td>November 11, 2020 – December 1, 2020</td>\n",
       "      <td>0</td>\n",
       "    </tr>\n",
       "    <tr>\n",
       "      <th>3</th>\n",
       "      <td>Zhongli</td>\n",
       "      <td>December 1, 2020 – December 22, 2020</td>\n",
       "      <td>0</td>\n",
       "    </tr>\n",
       "    <tr>\n",
       "      <th>4</th>\n",
       "      <td>Albedo</td>\n",
       "      <td>December 23, 2020 – January 12, 2021</td>\n",
       "      <td>0</td>\n",
       "    </tr>\n",
       "  </tbody>\n",
       "</table>\n",
       "</div>"
      ],
      "text/plain": [
       "    Featured                               Duration  Paired\n",
       "0      Venti  September 28, 2020 – October 18, 2020       0\n",
       "1       Klee   October 20, 2020 – November 10, 2020       0\n",
       "2  Tartaglia   November 11, 2020 – December 1, 2020       0\n",
       "3    Zhongli   December 1, 2020 – December 22, 2020       0\n",
       "4     Albedo   December 23, 2020 – January 12, 2021       0"
      ]
     },
     "execution_count": 9,
     "metadata": {},
     "output_type": "execute_result"
    }
   ],
   "source": [
    "df.head()"
   ]
  },
  {
   "cell_type": "code",
   "execution_count": 10,
   "id": "d86719fc",
   "metadata": {},
   "outputs": [],
   "source": [
    "df.Duration = df.Duration.apply(lambda x: x.split('–')[0])\n",
    "df['Date'] = pd.to_datetime(df.Duration, infer_datetime_format=True)\n",
    "df = df.drop('Duration', axis=1)"
   ]
  },
  {
   "cell_type": "code",
   "execution_count": 11,
   "id": "228c5651",
   "metadata": {},
   "outputs": [
    {
     "data": {
      "text/plain": [
       "Featured    False\n",
       "Paired      False\n",
       "Date        False\n",
       "dtype: bool"
      ]
     },
     "execution_count": 11,
     "metadata": {},
     "output_type": "execute_result"
    }
   ],
   "source": [
    "df.isna().any()"
   ]
  },
  {
   "cell_type": "code",
   "execution_count": 12,
   "id": "53b346a0",
   "metadata": {},
   "outputs": [],
   "source": [
    "df = df.rename(\n",
    "    columns={\n",
    "        'Featured': 'Character'\n",
    "    }\n",
    ")"
   ]
  },
  {
   "cell_type": "code",
   "execution_count": 13,
   "id": "fa5eb31c",
   "metadata": {},
   "outputs": [
    {
     "data": {
      "text/plain": [
       "Index(['Character', 'Paired', 'Date'], dtype='object')"
      ]
     },
     "execution_count": 13,
     "metadata": {},
     "output_type": "execute_result"
    }
   ],
   "source": [
    "df.columns"
   ]
  },
  {
   "cell_type": "code",
   "execution_count": 14,
   "id": "ea7bb722",
   "metadata": {},
   "outputs": [
    {
     "data": {
      "image/png": "[encoded data removed]",
      "text/plain": [
       "<Figure size 1152x648 with 2 Axes>"
      ]
     },
     "metadata": {},
     "output_type": "display_data"
    }
   ],
   "source": [
    "banner_counts = df.groupby('Character').Date.count()\n",
    "\n",
    "fig = plt.figure(figsize=(16, 9))\n",
    "\n",
    "ax1 = fig.add_subplot(2, 1, 1)\n",
    "sns.countplot(x=df.Character, hue=df.Paired)\n",
    "plt.title('Banner reruns with respect to Paired banners')\n",
    "plt.xticks(rotation=45)\n",
    "\n",
    "\n",
    "\n",
    "ax2 = fig.add_subplot(2, 1, 2)\n",
    "sns.barplot(x=banner_counts.index, y=banner_counts)\n",
    "plt.title('Overall banner reruns')\n",
    "plt.xticks(rotation=45)\n",
    "plt.ylabel('count')\n",
    "\n",
    "\n",
    "plt.tight_layout()"
   ]
  },
  {
   "cell_type": "code",
   "execution_count": 15,
   "id": "32e9fbec",
   "metadata": {},
   "outputs": [],
   "source": [
    "tables_2 = pd.read_html('https://www.bulletinsun.com/2022/01/'\n",
    "                        'Genshin-Impact-pick-rates-Full-list-of-each-Genshin-Impact-character.html')"
   ]
  },
  {
   "cell_type": "code",
   "execution_count": 16,
   "id": "87f41064",
   "metadata": {},
   "outputs": [],
   "source": [
    "pick_rate_df = tables_2[0]\n",
    "pick_rate_df = pick_rate_df.loc[1:]\n",
    "pick_rate_df.columns = ['Rank', 'Character', 'Element', 'Popularity']\n",
    "\n",
    "pick_rate_df = pick_rate_df.drop(['Rank'], axis=1)\n",
    "pick_rate_df.Character = pick_rate_df.Character.apply(lambda x: x.split()[0])"
   ]
  },
  {
   "cell_type": "code",
   "execution_count": 17,
   "id": "e0beffc6",
   "metadata": {},
   "outputs": [],
   "source": [
    "df = pd.merge(df, pick_rate_df)"
   ]
  },
  {
   "cell_type": "code",
   "execution_count": 18,
   "id": "637faaca",
   "metadata": {},
   "outputs": [
    {
     "data": {
      "text/plain": [
       "Character     False\n",
       "Paired        False\n",
       "Date          False\n",
       "Element       False\n",
       "Popularity    False\n",
       "dtype: bool"
      ]
     },
     "execution_count": 18,
     "metadata": {},
     "output_type": "execute_result"
    }
   ],
   "source": [
    "df.isna().any()"
   ]
  },
  {
   "cell_type": "code",
   "execution_count": 19,
   "id": "9df98e50",
   "metadata": {},
   "outputs": [
    {
     "data": {
      "text/html": [
       "<div>\n",
       "<style scoped>\n",
       "    .dataframe tbody tr th:only-of-type {\n",
       "        vertical-align: middle;\n",
       "    }\n",
       "\n",
       "    .dataframe tbody tr th {\n",
       "        vertical-align: top;\n",
       "    }\n",
       "\n",
       "    .dataframe thead th {\n",
       "        text-align: right;\n",
       "    }\n",
       "</style>\n",
       "<table border=\"1\" class=\"dataframe\">\n",
       "  <thead>\n",
       "    <tr style=\"text-align: right;\">\n",
       "      <th></th>\n",
       "      <th>Character</th>\n",
       "      <th>Paired</th>\n",
       "      <th>Date</th>\n",
       "      <th>Element</th>\n",
       "      <th>Popularity</th>\n",
       "    </tr>\n",
       "  </thead>\n",
       "  <tbody>\n",
       "    <tr>\n",
       "      <th>0</th>\n",
       "      <td>Venti</td>\n",
       "      <td>0</td>\n",
       "      <td>2020-09-28</td>\n",
       "      <td>Anemo</td>\n",
       "      <td>83%</td>\n",
       "    </tr>\n",
       "    <tr>\n",
       "      <th>1</th>\n",
       "      <td>Venti</td>\n",
       "      <td>0</td>\n",
       "      <td>2021-03-17</td>\n",
       "      <td>Anemo</td>\n",
       "      <td>83%</td>\n",
       "    </tr>\n",
       "    <tr>\n",
       "      <th>2</th>\n",
       "      <td>Venti</td>\n",
       "      <td>1</td>\n",
       "      <td>2022-03-30</td>\n",
       "      <td>Anemo</td>\n",
       "      <td>83%</td>\n",
       "    </tr>\n",
       "    <tr>\n",
       "      <th>3</th>\n",
       "      <td>Klee</td>\n",
       "      <td>0</td>\n",
       "      <td>2020-10-20</td>\n",
       "      <td>Pyro</td>\n",
       "      <td>16.3%</td>\n",
       "    </tr>\n",
       "    <tr>\n",
       "      <th>4</th>\n",
       "      <td>Klee</td>\n",
       "      <td>0</td>\n",
       "      <td>2021-06-09</td>\n",
       "      <td>Pyro</td>\n",
       "      <td>16.3%</td>\n",
       "    </tr>\n",
       "  </tbody>\n",
       "</table>\n",
       "</div>"
      ],
      "text/plain": [
       "  Character  Paired       Date Element Popularity\n",
       "0     Venti       0 2020-09-28   Anemo        83%\n",
       "1     Venti       0 2021-03-17   Anemo        83%\n",
       "2     Venti       1 2022-03-30   Anemo        83%\n",
       "3      Klee       0 2020-10-20    Pyro      16.3%\n",
       "4      Klee       0 2021-06-09    Pyro      16.3%"
      ]
     },
     "execution_count": 19,
     "metadata": {},
     "output_type": "execute_result"
    }
   ],
   "source": [
    "df.head()"
   ]
  },
  {
   "cell_type": "code",
   "execution_count": 20,
   "id": "fa585b9f",
   "metadata": {},
   "outputs": [],
   "source": [
    "df.Popularity = df.Popularity.apply(lambda x: float(x[:-1]))"
   ]
  },
  {
   "cell_type": "code",
   "execution_count": 21,
   "id": "ab1ad28f",
   "metadata": {},
   "outputs": [],
   "source": [
    "banner_counts = df.groupby('Character').Date.count().reset_index()\n",
    "\n",
    "banner_counts = banner_counts.rename(\n",
    "    columns={\n",
    "        'Date': 'Appearances'\n",
    "    }\n",
    ")\n",
    "\n",
    "df = pd.merge(df, banner_counts)"
   ]
  },
  {
   "cell_type": "code",
   "execution_count": 22,
   "id": "5f813761",
   "metadata": {},
   "outputs": [],
   "source": [
    "unique_df = df.drop_duplicates('Character')"
   ]
  },
  {
   "cell_type": "code",
   "execution_count": 23,
   "id": "abd84dac",
   "metadata": {},
   "outputs": [
    {
     "data": {
      "text/html": [
       "<div>\n",
       "<style scoped>\n",
       "    .dataframe tbody tr th:only-of-type {\n",
       "        vertical-align: middle;\n",
       "    }\n",
       "\n",
       "    .dataframe tbody tr th {\n",
       "        vertical-align: top;\n",
       "    }\n",
       "\n",
       "    .dataframe thead th {\n",
       "        text-align: right;\n",
       "    }\n",
       "</style>\n",
       "<table border=\"1\" class=\"dataframe\">\n",
       "  <thead>\n",
       "    <tr style=\"text-align: right;\">\n",
       "      <th></th>\n",
       "      <th>Character</th>\n",
       "      <th>Paired</th>\n",
       "      <th>Date</th>\n",
       "      <th>Element</th>\n",
       "      <th>Popularity</th>\n",
       "      <th>Appearances</th>\n",
       "    </tr>\n",
       "  </thead>\n",
       "  <tbody>\n",
       "    <tr>\n",
       "      <th>0</th>\n",
       "      <td>Venti</td>\n",
       "      <td>0</td>\n",
       "      <td>2020-09-28</td>\n",
       "      <td>Anemo</td>\n",
       "      <td>83.0</td>\n",
       "      <td>3</td>\n",
       "    </tr>\n",
       "    <tr>\n",
       "      <th>3</th>\n",
       "      <td>Klee</td>\n",
       "      <td>0</td>\n",
       "      <td>2020-10-20</td>\n",
       "      <td>Pyro</td>\n",
       "      <td>16.3</td>\n",
       "      <td>2</td>\n",
       "    </tr>\n",
       "    <tr>\n",
       "      <th>5</th>\n",
       "      <td>Zhongli</td>\n",
       "      <td>0</td>\n",
       "      <td>2020-12-01</td>\n",
       "      <td>Geo</td>\n",
       "      <td>91.5</td>\n",
       "      <td>3</td>\n",
       "    </tr>\n",
       "    <tr>\n",
       "      <th>8</th>\n",
       "      <td>Albedo</td>\n",
       "      <td>0</td>\n",
       "      <td>2020-12-23</td>\n",
       "      <td>Geo</td>\n",
       "      <td>74.2</td>\n",
       "      <td>2</td>\n",
       "    </tr>\n",
       "    <tr>\n",
       "      <th>10</th>\n",
       "      <td>Ganyu</td>\n",
       "      <td>0</td>\n",
       "      <td>2021-01-12</td>\n",
       "      <td>Cryo</td>\n",
       "      <td>76.2</td>\n",
       "      <td>2</td>\n",
       "    </tr>\n",
       "  </tbody>\n",
       "</table>\n",
       "</div>"
      ],
      "text/plain": [
       "   Character  Paired       Date Element  Popularity  Appearances\n",
       "0      Venti       0 2020-09-28   Anemo        83.0            3\n",
       "3       Klee       0 2020-10-20    Pyro        16.3            2\n",
       "5    Zhongli       0 2020-12-01     Geo        91.5            3\n",
       "8     Albedo       0 2020-12-23     Geo        74.2            2\n",
       "10     Ganyu       0 2021-01-12    Cryo        76.2            2"
      ]
     },
     "execution_count": 23,
     "metadata": {},
     "output_type": "execute_result"
    }
   ],
   "source": [
    "unique_df.head()"
   ]
  },
  {
   "cell_type": "code",
   "execution_count": 24,
   "id": "342942b6",
   "metadata": {},
   "outputs": [
    {
     "data": {
      "text/plain": [
       "<AxesSubplot:>"
      ]
     },
     "execution_count": 24,
     "metadata": {},
     "output_type": "execute_result"
    },
    {
     "data": {
      "image/png": "[encoded data removed]",
      "text/plain": [
       "<Figure size 432x288 with 2 Axes>"
      ]
     },
     "metadata": {},
     "output_type": "display_data"
    }
   ],
   "source": [
    "sns.heatmap(unique_df[['Popularity', 'Appearances']].corr())"
   ]
  },
  {
   "cell_type": "code",
   "execution_count": 25,
   "id": "56a89af5",
   "metadata": {},
   "outputs": [
    {
     "data": {
      "text/plain": [
       "<seaborn.axisgrid.PairGrid at 0x7fa44abbb820>"
      ]
     },
     "execution_count": 25,
     "metadata": {},
     "output_type": "execute_result"
    },
    {
     "data": {
      "image/png": "[encoded data removed]",
      "text/plain": [
       "<Figure size 540x540 with 12 Axes>"
      ]
     },
     "metadata": {},
     "output_type": "display_data"
    }
   ],
   "source": [
    "sns.pairplot(unique_df)"
   ]
  },
  {
   "cell_type": "code",
   "execution_count": 27,
   "id": "ebf7c93d",
   "metadata": {},
   "outputs": [
    {
     "data": {
      "text/html": [
       "<div>\n",
       "<style scoped>\n",
       "    .dataframe tbody tr th:only-of-type {\n",
       "        vertical-align: middle;\n",
       "    }\n",
       "\n",
       "    .dataframe tbody tr th {\n",
       "        vertical-align: top;\n",
       "    }\n",
       "\n",
       "    .dataframe thead th {\n",
       "        text-align: right;\n",
       "    }\n",
       "</style>\n",
       "<table border=\"1\" class=\"dataframe\">\n",
       "  <thead>\n",
       "    <tr style=\"text-align: right;\">\n",
       "      <th></th>\n",
       "      <th>Character</th>\n",
       "      <th>Paired</th>\n",
       "      <th>Date</th>\n",
       "      <th>Element</th>\n",
       "      <th>Popularity</th>\n",
       "      <th>Appearances</th>\n",
       "    </tr>\n",
       "  </thead>\n",
       "  <tbody>\n",
       "    <tr>\n",
       "      <th>19</th>\n",
       "      <td>Kazuha</td>\n",
       "      <td>0</td>\n",
       "      <td>2021-06-29</td>\n",
       "      <td>Anemo</td>\n",
       "      <td>95.2</td>\n",
       "      <td>1</td>\n",
       "    </tr>\n",
       "    <tr>\n",
       "      <th>5</th>\n",
       "      <td>Zhongli</td>\n",
       "      <td>0</td>\n",
       "      <td>2020-12-01</td>\n",
       "      <td>Geo</td>\n",
       "      <td>91.5</td>\n",
       "      <td>3</td>\n",
       "    </tr>\n",
       "    <tr>\n",
       "      <th>23</th>\n",
       "      <td>Raiden</td>\n",
       "      <td>0</td>\n",
       "      <td>2021-09-01</td>\n",
       "      <td>Electro</td>\n",
       "      <td>88.7</td>\n",
       "      <td>2</td>\n",
       "    </tr>\n",
       "    <tr>\n",
       "      <th>20</th>\n",
       "      <td>Ayaka</td>\n",
       "      <td>0</td>\n",
       "      <td>2021-07-21</td>\n",
       "      <td>Cryo</td>\n",
       "      <td>87.8</td>\n",
       "      <td>2</td>\n",
       "    </tr>\n",
       "    <tr>\n",
       "      <th>0</th>\n",
       "      <td>Venti</td>\n",
       "      <td>0</td>\n",
       "      <td>2020-09-28</td>\n",
       "      <td>Anemo</td>\n",
       "      <td>83.0</td>\n",
       "      <td>3</td>\n",
       "    </tr>\n",
       "    <tr>\n",
       "      <th>10</th>\n",
       "      <td>Ganyu</td>\n",
       "      <td>0</td>\n",
       "      <td>2021-01-12</td>\n",
       "      <td>Cryo</td>\n",
       "      <td>76.2</td>\n",
       "      <td>2</td>\n",
       "    </tr>\n",
       "    <tr>\n",
       "      <th>8</th>\n",
       "      <td>Albedo</td>\n",
       "      <td>0</td>\n",
       "      <td>2020-12-23</td>\n",
       "      <td>Geo</td>\n",
       "      <td>74.2</td>\n",
       "      <td>2</td>\n",
       "    </tr>\n",
       "    <tr>\n",
       "      <th>15</th>\n",
       "      <td>Hu</td>\n",
       "      <td>0</td>\n",
       "      <td>2021-03-02</td>\n",
       "      <td>Pyro</td>\n",
       "      <td>73.8</td>\n",
       "      <td>2</td>\n",
       "    </tr>\n",
       "    <tr>\n",
       "      <th>25</th>\n",
       "      <td>Kokomi</td>\n",
       "      <td>0</td>\n",
       "      <td>2021-09-21</td>\n",
       "      <td>Hydro</td>\n",
       "      <td>69.2</td>\n",
       "      <td>2</td>\n",
       "    </tr>\n",
       "    <tr>\n",
       "      <th>17</th>\n",
       "      <td>Eula</td>\n",
       "      <td>0</td>\n",
       "      <td>2021-05-18</td>\n",
       "      <td>Cryo</td>\n",
       "      <td>60.2</td>\n",
       "      <td>2</td>\n",
       "    </tr>\n",
       "    <tr>\n",
       "      <th>27</th>\n",
       "      <td>Shenhe</td>\n",
       "      <td>1</td>\n",
       "      <td>2022-01-05</td>\n",
       "      <td>Cryo</td>\n",
       "      <td>58.2</td>\n",
       "      <td>1</td>\n",
       "    </tr>\n",
       "    <tr>\n",
       "      <th>12</th>\n",
       "      <td>Xiao</td>\n",
       "      <td>0</td>\n",
       "      <td>2021-02-03</td>\n",
       "      <td>Anemo</td>\n",
       "      <td>50.4</td>\n",
       "      <td>2</td>\n",
       "    </tr>\n",
       "    <tr>\n",
       "      <th>22</th>\n",
       "      <td>Yoimiya</td>\n",
       "      <td>0</td>\n",
       "      <td>2021-08-10</td>\n",
       "      <td>Pyro</td>\n",
       "      <td>40.1</td>\n",
       "      <td>1</td>\n",
       "    </tr>\n",
       "    <tr>\n",
       "      <th>3</th>\n",
       "      <td>Klee</td>\n",
       "      <td>0</td>\n",
       "      <td>2020-10-20</td>\n",
       "      <td>Pyro</td>\n",
       "      <td>16.3</td>\n",
       "      <td>2</td>\n",
       "    </tr>\n",
       "    <tr>\n",
       "      <th>14</th>\n",
       "      <td>Keqing</td>\n",
       "      <td>0</td>\n",
       "      <td>2021-02-17</td>\n",
       "      <td>Electro</td>\n",
       "      <td>9.2</td>\n",
       "      <td>1</td>\n",
       "    </tr>\n",
       "  </tbody>\n",
       "</table>\n",
       "</div>"
      ],
      "text/plain": [
       "   Character  Paired       Date  Element  Popularity  Appearances\n",
       "19    Kazuha       0 2021-06-29    Anemo        95.2            1\n",
       "5    Zhongli       0 2020-12-01      Geo        91.5            3\n",
       "23    Raiden       0 2021-09-01  Electro        88.7            2\n",
       "20     Ayaka       0 2021-07-21     Cryo        87.8            2\n",
       "0      Venti       0 2020-09-28    Anemo        83.0            3\n",
       "10     Ganyu       0 2021-01-12     Cryo        76.2            2\n",
       "8     Albedo       0 2020-12-23      Geo        74.2            2\n",
       "15        Hu       0 2021-03-02     Pyro        73.8            2\n",
       "25    Kokomi       0 2021-09-21    Hydro        69.2            2\n",
       "17      Eula       0 2021-05-18     Cryo        60.2            2\n",
       "27    Shenhe       1 2022-01-05     Cryo        58.2            1\n",
       "12      Xiao       0 2021-02-03    Anemo        50.4            2\n",
       "22   Yoimiya       0 2021-08-10     Pyro        40.1            1\n",
       "3       Klee       0 2020-10-20     Pyro        16.3            2\n",
       "14    Keqing       0 2021-02-17  Electro         9.2            1"
      ]
     },
     "execution_count": 27,
     "metadata": {},
     "output_type": "execute_result"
    }
   ],
   "source": [
    "unique_df.sort_values(by=['Popularity', 'Appearances'], ascending=False)"
   ]
  },
  {
   "cell_type": "code",
   "execution_count": null,
   "id": "965caa71",
   "metadata": {},
   "outputs": [],
   "source": []
  },
  {
   "cell_type": "code",
   "execution_count": null,
   "id": "5b2ceac4",
   "metadata": {},
   "outputs": [],
   "source": []
  }
 ],
 "metadata": {
  "kernelspec": {
   "display_name": "Python 3 (ipykernel)",
   "language": "python",
   "name": "python3"
  },
  "language_info": {
   "codemirror_mode": {
    "name": "ipython",
    "version": 3
   },
   "file_extension": ".py",
   "mimetype": "text/x-python",
   "name": "python",
   "nbconvert_exporter": "python",
   "pygments_lexer": "ipython3",
   "version": "3.9.7"
  }
 },
 "nbformat": 4,
 "nbformat_minor": 5
}
